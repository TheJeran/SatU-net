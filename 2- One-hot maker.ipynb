{
 "cells": [
  {
   "cell_type": "code",
   "execution_count": 1,
   "metadata": {},
   "outputs": [],
   "source": [
    "import tensorflow as tf\n",
    "from tensorflow import keras\n",
    "import os\n",
    "import numpy as np\n",
    "import matplotlib.pyplot as plt\n",
    "from PIL import Image"
   ]
  },
  {
   "cell_type": "code",
   "execution_count": 3,
   "metadata": {},
   "outputs": [
    {
     "name": "stdout",
     "output_type": "stream",
     "text": [
      "0 remaining\n"
     ]
    }
   ],
   "source": [
    "'''\n",
    "    Use this cell to convert any dimension masks into a one-hot array.\n",
    "    Plug-and-play Requirements:\n",
    "        - Masks must have desired class value assigned to the R value of the image.\n",
    "        - Other class must be black \n",
    "        - Background class must be white\n",
    "    If requirements met. Then simply assign the hyperparameters accodringly\n",
    "        num_classes \n",
    "        others_class_indx \n",
    "        background_class_indx\n",
    "    \n",
    "'''\n",
    "\n",
    "mask_path = 'images/masks/'\n",
    "#mask_path = 'images/validation/masks/'\n",
    "array_path = 'images/one-hot-masks/'\n",
    "#array_path = 'images/validation/one-hot-masks/'\n",
    "\n",
    "\n",
    "num_classes = 6\n",
    "others_class_indx = 5\n",
    "background_class_indx = 6\n",
    "\n",
    "remain = len(os.listdir(mask_path))\n",
    "for file in os.listdir(mask_path):\n",
    "    img = keras.preprocessing.image.load_img(mask_path+file,target_size=(512,512))\n",
    "    array = keras.preprocessing.image.img_to_array(img)\n",
    "    Y = np.zeros((512,512,num_classes))\n",
    "    for i in range(512):\n",
    "        for j in range(512):\n",
    "            if array[i,j,0] == 0:\n",
    "                Y[i,j,others_class_indx-1] = 1\n",
    "            elif array[i,j,0] == 255:\n",
    "                Y[i,j,background_class_indx-1] = 1\n",
    "            else:\n",
    "                Y[i,j,int(array[i,j,0])-1] = 1\n",
    "    Y1 = Y.astype('int8')\n",
    "    remain -= 1\n",
    "    if remain %100 == 0:\n",
    "        print(remain,'remaining')\n",
    "    np.save(array_path+file[:-3]+'npy',Y1)"
   ]
  },
  {
   "cell_type": "code",
   "execution_count": null,
   "metadata": {},
   "outputs": [],
   "source": []
  }
 ],
 "metadata": {
  "kernelspec": {
   "display_name": "Python 3",
   "language": "python",
   "name": "python3"
  },
  "language_info": {
   "codemirror_mode": {
    "name": "ipython",
    "version": 3
   },
   "file_extension": ".py",
   "mimetype": "text/x-python",
   "name": "python",
   "nbconvert_exporter": "python",
   "pygments_lexer": "ipython3",
   "version": "3.8.3"
  }
 },
 "nbformat": 4,
 "nbformat_minor": 4
}
