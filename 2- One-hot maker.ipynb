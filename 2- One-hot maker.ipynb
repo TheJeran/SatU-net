{
 "cells": [
  {
   "cell_type": "code",
   "execution_count": 1,
   "metadata": {},
   "outputs": [],
   "source": [
    "import tensorflow as tf\n",
    "from tensorflow import keras\n",
    "import os\n",
    "import numpy as np\n",
    "import matplotlib.pyplot as plt\n",
    "from PIL import Image\n",
    "import time"
   ]
  },
  {
   "cell_type": "code",
   "execution_count": 2,
   "metadata": {},
   "outputs": [
    {
     "name": "stdout",
     "output_type": "stream",
     "text": [
      "0 remaining\n"
     ]
    }
   ],
   "source": [
    "'''\n",
    "    Use this cell to convert any dimension masks into a one-hot array.\n",
    "    Plug-and-play Requirements:\n",
    "        - Masks must have desired class value assigned to the Red value of the image.\n",
    "        - Background class must be white\n",
    "        - If R value of background class is the actual class value comment out the highlighted line\n",
    "        - Change num_classes to classes\n",
    "    \n",
    "'''\n",
    "\n",
    "#mask_path = 'images/masks/'\n",
    "mask_path = 'images/validation/masks/'\n",
    "#array_path = 'images/one-hot-masks/'\n",
    "array_path = 'images/validation/one-hot-masks/'\n",
    "\n",
    "\n",
    "num_classes = 6\n",
    "\n",
    "remain = len(os.listdir(mask_path))\n",
    "for i,file in enumerate(os.listdir(mask_path)):\n",
    "    img = keras.preprocessing.image.load_img(mask_path+file,target_size=(512,512))\n",
    "    array = keras.preprocessing.image.img_to_array(img)\n",
    "    r_img = array[:,:,0]\n",
    "    #########################\n",
    "    r_img[r_img > 10] = 5  #####<----Remove this line if the background Red value is its class value\n",
    "    #########################\n",
    "    Y = tf.one_hot(r_img,num_classes,dtype='int8')\n",
    "    np.save(array_path+file[:-3]+'npy',Y)\n",
    "    remain -= 1\n",
    "    if remain % 100 == 0:\n",
    "        print(remain,'remaining')"
   ]
  }
 ],
 "metadata": {
  "kernelspec": {
   "display_name": "Python 3",
   "language": "python",
   "name": "python3"
  },
  "language_info": {
   "codemirror_mode": {
    "name": "ipython",
    "version": 3
   },
   "file_extension": ".py",
   "mimetype": "text/x-python",
   "name": "python",
   "nbconvert_exporter": "python",
   "pygments_lexer": "ipython3",
   "version": "3.8.3"
  }
 },
 "nbformat": 4,
 "nbformat_minor": 4
}
