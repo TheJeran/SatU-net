{
 "cells": [
  {
   "cell_type": "code",
   "execution_count": 18,
   "metadata": {},
   "outputs": [],
   "source": [
    "import PIL\n",
    "from PIL import Image, ImageOps\n",
    "import os\n",
    "import random"
   ]
  },
  {
   "cell_type": "code",
   "execution_count": 7,
   "metadata": {},
   "outputs": [],
   "source": [
    "agripath = 'images/agriframes/'\n",
    "natpath = 'images/natframes/'\n",
    "maskspath = 'images/masks/'\n",
    "paths = [agripath,natpath,maskspath]\n",
    "files = os.listdir(maskspath)"
   ]
  },
  {
   "cell_type": "code",
   "execution_count": 9,
   "metadata": {},
   "outputs": [
    {
     "name": "stdout",
     "output_type": "stream",
     "text": [
      "0 remaining\n"
     ]
    }
   ],
   "source": [
    "#Mirror images\n",
    "remain = len(files)\n",
    "for file in files:\n",
    "    for path in paths:\n",
    "        img = ImageOps.mirror(Image.open(path+file))\n",
    "        img.save(path+file[:-4]+'_mirror.png','png')\n",
    "    remain -=1\n",
    "    if remain %100 == 0:\n",
    "        print(remain, 'remaining')"
   ]
  },
  {
   "cell_type": "code",
   "execution_count": 10,
   "metadata": {},
   "outputs": [
    {
     "name": "stdout",
     "output_type": "stream",
     "text": [
      "0 remaining\n"
     ]
    }
   ],
   "source": [
    "#Rotate images\n",
    "files = os.listdir(maskspath)\n",
    "remain = len(files)\n",
    "for file in files:\n",
    "    for path in paths:\n",
    "        img = Image.open(path+file).rotate(90)\n",
    "        img.save(path+file[:-4]+'_rotate.png','png')\n",
    "    remain -=1\n",
    "    if remain %100 == 0:\n",
    "        print(remain, 'remaining')"
   ]
  },
  {
   "cell_type": "code",
   "execution_count": null,
   "metadata": {},
   "outputs": [],
   "source": [
    "#Rotate images 2\n",
    "files = os.listdir(maskspath)\n",
    "remain = len(files)\n",
    "for file in files:\n",
    "    for path in paths:\n",
    "        img = Image.open(path+file).rotate(180)\n",
    "        img.save(path+file[:-4]+'_rotate2.png','png')\n",
    "    remain -=1\n",
    "    if remain %100 == 0:\n",
    "        print(remain, 'remaining')"
   ]
  },
  {
   "cell_type": "markdown",
   "metadata": {},
   "source": [
    "## Validation Split"
   ]
  },
  {
   "cell_type": "code",
   "execution_count": 31,
   "metadata": {},
   "outputs": [],
   "source": [
    "new_agripath = 'images/validation/agriframes/'\n",
    "new_natpath = 'images/validation/natframes/'\n",
    "new_maskspath = 'images/validation/masks/'\n",
    "new_paths = [new_agripath,new_natpath,new_maskspath]\n",
    "two_paths = zip(paths,new_paths)\n",
    "val_size = 4\n",
    "\n",
    "files = random.sample(os.listdir(maskspath),val_size)\n",
    "for old,new in two_paths:\n",
    "    for file in files:\n",
    "        os.rename(old+file,new+file)\n"
   ]
  }
 ],
 "metadata": {
  "kernelspec": {
   "display_name": "Python 3",
   "language": "python",
   "name": "python3"
  },
  "language_info": {
   "codemirror_mode": {
    "name": "ipython",
    "version": 3
   },
   "file_extension": ".py",
   "mimetype": "text/x-python",
   "name": "python",
   "nbconvert_exporter": "python",
   "pygments_lexer": "ipython3",
   "version": "3.8.3"
  }
 },
 "nbformat": 4,
 "nbformat_minor": 4
}
